{
 "cells": [
  {
   "cell_type": "markdown",
   "id": "3d663f7a",
   "metadata": {},
   "source": [
    "# Sentiment analysis on movie reviews by rotten tomatoes using roBERTa transformer model"
   ]
  },
  {
   "cell_type": "code",
   "execution_count": null,
   "id": "21c3fa1a",
   "metadata": {},
   "outputs": [],
   "source": [
    "import numpy as np\n",
    "import matplotlib.pyplot as plt\n",
    "import seaborn as sns\n",
    "\n",
    "plt.style.use('ggplot')\n",
    "\n",
    "import nltk"
   ]
  },
  {
   "cell_type": "code",
   "execution_count": 38,
   "id": "61c86954",
   "metadata": {},
   "outputs": [],
   "source": [
    "df = pd.read_csv('rotten_tomatoes_critic_reviews.csv') \n",
    "\n",
    "#csv at (https://www.kaggle.com/datasets/stefanoleone992/rotten-tomatoes-movies-and-critic-reviews-dataset?resource=download)\n",
    "\n",
    "df.drop(['top_critic', 'publisher_name', 'review_type', 'review_score', 'review_date'], axis=1, inplace=True)\n",
    "df['id'] = df.reset_index().index\n",
    "df=df.head(78)"
   ]
  },
  {
   "cell_type": "markdown",
   "id": "01174432",
   "metadata": {},
   "source": [
    "# # RoBERTa\n",
    "\n",
    "This is a roBERTa-base model trained on ~58M tweets and finetuned for sentiment analysis with the TweetEval benchmark. This model is suitable for English (for a similar multilingual model, see XLM-T)."
   ]
  },
  {
   "cell_type": "code",
   "execution_count": 25,
   "id": "5fcab272",
   "metadata": {},
   "outputs": [],
   "source": [
    "from transformers import AutoTokenizer\n",
    "from transformers import AutoModelForSequenceClassification\n",
    "from scipy.special import softmax\n",
    "import tqdm as notebook_tqdm\n",
    "from tqdm import tqdm"
   ]
  },
  {
   "cell_type": "code",
   "execution_count": 15,
   "id": "60835ff6",
   "metadata": {},
   "outputs": [
    {
     "name": "stderr",
     "output_type": "stream",
     "text": [
      "Downloading: 100%|██████████████████████████████| 747/747 [00:00<00:00, 281kB/s]\n",
      "Downloading: 100%|███████████████████████████| 899k/899k [00:00<00:00, 1.05MB/s]\n",
      "Downloading: 100%|████████████████████████████| 456k/456k [00:00<00:00, 625kB/s]\n",
      "Downloading: 100%|█████████████████████████████| 150/150 [00:00<00:00, 40.9kB/s]\n",
      "Downloading: 100%|███████████████████████████| 499M/499M [02:14<00:00, 3.70MB/s]\n"
     ]
    }
   ],
   "source": [
    "MODEL = f\"cardiffnlp/twitter-roberta-base-sentiment\"\n",
    "tokenizer = AutoTokenizer.from_pretrained(MODEL)\n",
    "model = AutoModelForSequenceClassification.from_pretrained(MODEL)"
   ]
  },
  {
   "cell_type": "code",
   "execution_count": 16,
   "id": "88a97375",
   "metadata": {},
   "outputs": [],
   "source": [
    "def roberta_scores(example):\n",
    "    encoded_text = tokenizer(example, return_tensors='pt')\n",
    "    output = model(**encoded_text)\n",
    "    scores = output[0][0].detach().numpy()\n",
    "    scores = softmax(scores)\n",
    "    scores_dict = {\n",
    "        'roberta_neg' : scores[0],\n",
    "        'roberta_neu' : scores[1],\n",
    "        'roberta_pos' : scores[2]\n",
    "    }\n",
    "    return scores_dict"
   ]
  },
  {
   "cell_type": "code",
   "execution_count": 39,
   "id": "13996f03",
   "metadata": {},
   "outputs": [
    {
     "name": "stderr",
     "output_type": "stream",
     "text": [
      "100%|███████████████████████████████████████████| 78/78 [00:30<00:00,  2.53it/s]\n"
     ]
    }
   ],
   "source": [
    "res = {}\n",
    "for i, row in tqdm(df.iterrows(), total=len(df)):\n",
    "    try:\n",
    "        if row['review_content']:\n",
    "            text = row['review_content']\n",
    "            myid = row['id']\n",
    "            roberta_result = roberta_scores(text)\n",
    "            res[myid] = roberta_result\n",
    "    except RuntimeError:\n",
    "        print(f'Broke for id {myid}')"
   ]
  },
  {
   "cell_type": "code",
   "execution_count": 44,
   "id": "bc371dca",
   "metadata": {},
   "outputs": [],
   "source": [
    "results_df = pd.DataFrame(res).T\n",
    "\n",
    "results_df = results_df.reset_index().rename(columns={'index': 'id'})\n",
    "results_df = results_df.merge(df, how='left')"
   ]
  },
  {
   "cell_type": "code",
   "execution_count": 45,
   "id": "c86a9c89",
   "metadata": {},
   "outputs": [
    {
     "data": {
      "text/html": [
       "<div>\n",
       "<style scoped>\n",
       "    .dataframe tbody tr th:only-of-type {\n",
       "        vertical-align: middle;\n",
       "    }\n",
       "\n",
       "    .dataframe tbody tr th {\n",
       "        vertical-align: top;\n",
       "    }\n",
       "\n",
       "    .dataframe thead th {\n",
       "        text-align: right;\n",
       "    }\n",
       "</style>\n",
       "<table border=\"1\" class=\"dataframe\">\n",
       "  <thead>\n",
       "    <tr style=\"text-align: right;\">\n",
       "      <th></th>\n",
       "      <th>id</th>\n",
       "      <th>roberta_neg</th>\n",
       "      <th>roberta_neu</th>\n",
       "      <th>roberta_pos</th>\n",
       "      <th>rotten_tomatoes_link</th>\n",
       "      <th>critic_name</th>\n",
       "      <th>review_content</th>\n",
       "    </tr>\n",
       "  </thead>\n",
       "  <tbody>\n",
       "    <tr>\n",
       "      <th>0</th>\n",
       "      <td>0</td>\n",
       "      <td>0.004961</td>\n",
       "      <td>0.241265</td>\n",
       "      <td>0.753774</td>\n",
       "      <td>m/0814255</td>\n",
       "      <td>Andrew L. Urban</td>\n",
       "      <td>A fantasy adventure that fuses Greek mythology...</td>\n",
       "    </tr>\n",
       "    <tr>\n",
       "      <th>1</th>\n",
       "      <td>1</td>\n",
       "      <td>0.087270</td>\n",
       "      <td>0.548667</td>\n",
       "      <td>0.364063</td>\n",
       "      <td>m/0814255</td>\n",
       "      <td>Louise Keller</td>\n",
       "      <td>Uma Thurman as Medusa, the gorgon with a coiff...</td>\n",
       "    </tr>\n",
       "    <tr>\n",
       "      <th>2</th>\n",
       "      <td>2</td>\n",
       "      <td>0.001744</td>\n",
       "      <td>0.062746</td>\n",
       "      <td>0.935510</td>\n",
       "      <td>m/0814255</td>\n",
       "      <td>NaN</td>\n",
       "      <td>With a top-notch cast and dazzling special eff...</td>\n",
       "    </tr>\n",
       "    <tr>\n",
       "      <th>3</th>\n",
       "      <td>3</td>\n",
       "      <td>0.048001</td>\n",
       "      <td>0.285990</td>\n",
       "      <td>0.666008</td>\n",
       "      <td>m/0814255</td>\n",
       "      <td>Ben McEachen</td>\n",
       "      <td>Whether audiences will get behind The Lightnin...</td>\n",
       "    </tr>\n",
       "    <tr>\n",
       "      <th>4</th>\n",
       "      <td>4</td>\n",
       "      <td>0.578026</td>\n",
       "      <td>0.355937</td>\n",
       "      <td>0.066037</td>\n",
       "      <td>m/0814255</td>\n",
       "      <td>Ethan Alter</td>\n",
       "      <td>What's really lacking in The Lightning Thief i...</td>\n",
       "    </tr>\n",
       "  </tbody>\n",
       "</table>\n",
       "</div>"
      ],
      "text/plain": [
       "   id  roberta_neg  roberta_neu  roberta_pos rotten_tomatoes_link  \\\n",
       "0   0     0.004961     0.241265     0.753774            m/0814255   \n",
       "1   1     0.087270     0.548667     0.364063            m/0814255   \n",
       "2   2     0.001744     0.062746     0.935510            m/0814255   \n",
       "3   3     0.048001     0.285990     0.666008            m/0814255   \n",
       "4   4     0.578026     0.355937     0.066037            m/0814255   \n",
       "\n",
       "       critic_name                                     review_content  \n",
       "0  Andrew L. Urban  A fantasy adventure that fuses Greek mythology...  \n",
       "1    Louise Keller  Uma Thurman as Medusa, the gorgon with a coiff...  \n",
       "2              NaN  With a top-notch cast and dazzling special eff...  \n",
       "3     Ben McEachen  Whether audiences will get behind The Lightnin...  \n",
       "4      Ethan Alter  What's really lacking in The Lightning Thief i...  "
      ]
     },
     "execution_count": 45,
     "metadata": {},
     "output_type": "execute_result"
    }
   ],
   "source": [
    "results_df.head()"
   ]
  },
  {
   "cell_type": "code",
   "execution_count": null,
   "id": "7cf2013c",
   "metadata": {},
   "outputs": [],
   "source": []
  }
 ],
 "metadata": {
  "kernelspec": {
   "display_name": "Python 3 (ipykernel)",
   "language": "python",
   "name": "python3"
  },
  "language_info": {
   "codemirror_mode": {
    "name": "ipython",
    "version": 3
   },
   "file_extension": ".py",
   "mimetype": "text/x-python",
   "name": "python",
   "nbconvert_exporter": "python",
   "pygments_lexer": "ipython3",
   "version": "3.10.9"
  }
 },
 "nbformat": 4,
 "nbformat_minor": 5
}
